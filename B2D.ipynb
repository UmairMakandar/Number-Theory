{
  "nbformat": 4,
  "nbformat_minor": 0,
  "metadata": {
    "colab": {
      "provenance": [],
      "toc_visible": true,
      "authorship_tag": "ABX9TyMRHPxBi0oJOoNMJSxhbjmX",
      "include_colab_link": true
    },
    "kernelspec": {
      "name": "python3",
      "display_name": "Python 3"
    },
    "language_info": {
      "name": "python"
    }
  },
  "cells": [
    {
      "cell_type": "markdown",
      "metadata": {
        "id": "view-in-github",
        "colab_type": "text"
      },
      "source": [
        "<a href=\"https://colab.research.google.com/github/UmairMakandar/Number-Theory/blob/main/B2D.ipynb\" target=\"_parent\"><img src=\"https://colab.research.google.com/assets/colab-badge.svg\" alt=\"Open In Colab\"/></a>"
      ]
    },
    {
      "cell_type": "code",
      "execution_count": 1,
      "metadata": {
        "id": "DSTClKsCfDcV"
      },
      "outputs": [],
      "source": [
        "def binary_to_decimal (binary_number):\n",
        "    #Intialize the decimal number to 0\n",
        "    decimal_number=0 #This is our starting point for accumulation\n",
        "    # Ensure that the binary number is a string to handle each digit correctly\n",
        "    binary_number = str(binary_number)\n",
        "    #Iterate through each digit in the string from left to right\n",
        "    for digit in binary_number:\n",
        "        decimal_number = decimal_number*2 + int(digit)\n",
        "    return decimal_number"
      ]
    },
    {
      "cell_type": "code",
      "source": [
        "binary_to_decimal(101000110011)"
      ],
      "metadata": {
        "colab": {
          "base_uri": "https://localhost:8080/"
        },
        "id": "E6DBNLAmfK2C",
        "outputId": "774318e3-d185-4dd1-f279-0abd494aa331"
      },
      "execution_count": 2,
      "outputs": [
        {
          "output_type": "execute_result",
          "data": {
            "text/plain": [
              "2611"
            ]
          },
          "metadata": {},
          "execution_count": 2
        }
      ]
    },
    {
      "cell_type": "code",
      "source": [],
      "metadata": {
        "id": "76Gd28GQfT6H"
      },
      "execution_count": null,
      "outputs": []
    }
  ]
}